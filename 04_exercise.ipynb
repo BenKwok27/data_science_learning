{
 "cells": [
  {
   "cell_type": "markdown",
   "id": "71b994b3-b70d-439a-84bc-8f45ea65777b",
   "metadata": {},
   "source": [
    "### Exercise 1\n",
    "Write a function to find the longest common prefix string amongst an array of strings.\n",
    "\n",
    "If there is no common prefix, return an empty string \"\".\n",
    "\n",
    "Example 1:\n",
    "\n",
    "Input: [\"flower\",\"flow\",\"flight\"]\n",
    "Output: \"fl\"\n",
    "Example 2:\n",
    "\n",
    "Input: [\"dog\",\"racecar\",\"car\"]\n",
    "Output: \"\""
   ]
  },
  {
   "cell_type": "code",
   "execution_count": null,
   "id": "34ccd410-82a7-4cfb-8a78-22e41ffd1abc",
   "metadata": {},
   "outputs": [],
   "source": []
  },
  {
   "cell_type": "markdown",
   "id": "e2be19ed-8f7f-4040-9dc6-c5d970d1cec5",
   "metadata": {},
   "source": [
    "### Exercise 2\n",
    "Write a Python program to get the Fibonacci series between 0 to i. i has to be >= 1 and is input by user. The Fibonnaci seqence is a sequence of numbers where the next number in the sequence is the sum of the previous two numbers in the sequence. The sequence looks like this: 1, 1, 2, 3, 5, 8, 13, …"
   ]
  },
  {
   "cell_type": "code",
   "execution_count": null,
   "id": "5bde6c53-0365-4fcb-ac14-ae9779e72bc0",
   "metadata": {},
   "outputs": [],
   "source": []
  },
  {
   "cell_type": "markdown",
   "id": "df985ac0-fb8e-4caa-8e8c-ebfef1646b1a",
   "metadata": {},
   "source": [
    "### Exercise 3\n",
    "Write a program which can compute the factorial of a given numbers. The results should be printed in a comma-separated sequence on a single line. Suppose the following input is supplied to the program: 8 Then, the output should be: 40320"
   ]
  },
  {
   "cell_type": "code",
   "execution_count": null,
   "id": "f97329f8-bc19-45ae-a02f-4016347702c5",
   "metadata": {},
   "outputs": [],
   "source": []
  },
  {
   "cell_type": "markdown",
   "id": "d741ce1b-7c14-432b-9d22-06e3c842d621",
   "metadata": {
    "tags": []
   },
   "source": [
    "### Exercise 4\n",
    "Given a list of numbers, return whether any two sums to k. For example, given [10, 15, 3, 7] and k of 17, return true since 10 + 7 is 17.\n",
    "\n",
    "Bonus: Can you do this in one pass?"
   ]
  },
  {
   "cell_type": "code",
   "execution_count": null,
   "id": "9fdc241e-0603-4734-8b00-bbd3ae891cd4",
   "metadata": {},
   "outputs": [],
   "source": []
  }
 ],
 "metadata": {
  "kernelspec": {
   "display_name": "Python 3 (ipykernel)",
   "language": "python",
   "name": "python3"
  },
  "language_info": {
   "codemirror_mode": {
    "name": "ipython",
    "version": 3
   },
   "file_extension": ".py",
   "mimetype": "text/x-python",
   "name": "python",
   "nbconvert_exporter": "python",
   "pygments_lexer": "ipython3",
   "version": "3.8.13"
  }
 },
 "nbformat": 4,
 "nbformat_minor": 5
}
